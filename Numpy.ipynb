{
 "cells": [
  {
   "cell_type": "code",
   "execution_count": 1,
   "metadata": {
    "collapsed": true
   },
   "outputs": [],
   "source": [
    "import numpy as np"
   ]
  },
  {
   "cell_type": "code",
   "execution_count": 3,
   "metadata": {},
   "outputs": [
    {
     "data": {
      "text/plain": [
       "10"
      ]
     },
     "execution_count": 3,
     "metadata": {},
     "output_type": "execute_result"
    }
   ],
   "source": [
    "np.sum(range(5), -1)"
   ]
  },
  {
   "cell_type": "code",
   "execution_count": 4,
   "metadata": {},
   "outputs": [
    {
     "data": {
      "text/plain": [
       "array([0, 0, 1, 1, 2, 2, 3, 3, 4, 4])"
      ]
     },
     "execution_count": 4,
     "metadata": {},
     "output_type": "execute_result"
    }
   ],
   "source": [
    "np.arange(10) // 2"
   ]
  },
  {
   "cell_type": "code",
   "execution_count": 6,
   "metadata": {},
   "outputs": [
    {
     "data": {
      "text/plain": [
       "array([[0, 0],\n",
       "       [1, 1],\n",
       "       [2, 2],\n",
       "       [3, 3],\n",
       "       [4, 4]])"
      ]
     },
     "execution_count": 6,
     "metadata": {},
     "output_type": "execute_result"
    }
   ],
   "source": [
    "np.arange(5)[:, np.newaxis]*(1,1)"
   ]
  },
  {
   "cell_type": "code",
   "execution_count": 8,
   "metadata": {},
   "outputs": [
    {
     "data": {
      "text/plain": [
       "array([0, 0, 1, 1, 2, 2, 3, 3, 4, 4])"
      ]
     },
     "execution_count": 8,
     "metadata": {},
     "output_type": "execute_result"
    }
   ],
   "source": [
    "np.array([(i,i) for i in range(5)]).flatten()"
   ]
  },
  {
   "cell_type": "code",
   "execution_count": 10,
   "metadata": {},
   "outputs": [
    {
     "data": {
      "text/plain": [
       "array([0, 1, 0, 3, 0, 5, 0, 7, 0, 9])"
      ]
     },
     "execution_count": 10,
     "metadata": {},
     "output_type": "execute_result"
    }
   ],
   "source": [
    "x = np.arange(10)\n",
    "x * (x%2==1)"
   ]
  },
  {
   "cell_type": "code",
   "execution_count": 12,
   "metadata": {},
   "outputs": [
    {
     "data": {
      "text/plain": [
       "array([False,  True, False,  True, False,  True, False,  True, False,  True], dtype=bool)"
      ]
     },
     "execution_count": 12,
     "metadata": {},
     "output_type": "execute_result"
    }
   ],
   "source": [
    "x % 2 ==1"
   ]
  },
  {
   "cell_type": "code",
   "execution_count": 16,
   "metadata": {},
   "outputs": [
    {
     "data": {
      "text/plain": [
       "array([  0.,  10.])"
      ]
     },
     "execution_count": 16,
     "metadata": {},
     "output_type": "execute_result"
    }
   ],
   "source": [
    "np.linspace(0,10,2)"
   ]
  },
  {
   "cell_type": "code",
   "execution_count": 20,
   "metadata": {},
   "outputs": [
    {
     "name": "stdout",
     "output_type": "stream",
     "text": [
      "[[1 4]\n",
      " [2 5]\n",
      " [3 6]]\n",
      "[1 2 3 4 5 6]\n",
      "[7 8 9]\n"
     ]
    }
   ],
   "source": [
    "W = np.array([[1,2,3], [4,5,6]])\n",
    "x = np.array([7,8,9])\n",
    "\n",
    "print(W.T)\n",
    "print(W.flatten())\n",
    "print(x.T)"
   ]
  },
  {
   "cell_type": "code",
   "execution_count": 21,
   "metadata": {},
   "outputs": [
    {
     "data": {
      "text/plain": [
       "array([[ 0,  1,  2,  3,  4,  5,  6,  7,  8,  9],\n",
       "       [10, 11, 12, 13, 14, 15, 16, 17, 18, 19]])"
      ]
     },
     "execution_count": 21,
     "metadata": {},
     "output_type": "execute_result"
    }
   ],
   "source": [
    "np.arange(20).reshape(2,10)"
   ]
  },
  {
   "cell_type": "code",
   "execution_count": 26,
   "metadata": {},
   "outputs": [
    {
     "data": {
      "text/plain": [
       "array([1, 6, 3, 8])"
      ]
     },
     "execution_count": 26,
     "metadata": {},
     "output_type": "execute_result"
    }
   ],
   "source": [
    "x = np.arange(1,9).reshape(2,4)\n",
    "np.array([x[0,0], x[1,1], x[0,2], x[1,3]])"
   ]
  },
  {
   "cell_type": "code",
   "execution_count": 28,
   "metadata": {},
   "outputs": [
    {
     "name": "stdout",
     "output_type": "stream",
     "text": [
      "[0 1 2 3 4 5 6 7 8 9]\n",
      "[ True  True  True  True  True False False False False False]\n"
     ]
    }
   ],
   "source": [
    "a = np.arange(10)\n",
    "print(a)\n",
    "print(a < 5)"
   ]
  },
  {
   "cell_type": "code",
   "execution_count": 29,
   "metadata": {},
   "outputs": [
    {
     "name": "stdout",
     "output_type": "stream",
     "text": [
      "[50 51 52 53 54]\n"
     ]
    }
   ],
   "source": [
    "b = np.arange(50,60)\n",
    "print(b[a < 5])"
   ]
  },
  {
   "cell_type": "code",
   "execution_count": 31,
   "metadata": {},
   "outputs": [
    {
     "name": "stdout",
     "output_type": "stream",
     "text": [
      "[[5 6 7 8 9]\n",
      " [0 1 2 3 4]]\n",
      "[[4 3 2 1 0]\n",
      " [9 8 7 6 5]]\n"
     ]
    }
   ],
   "source": [
    "W = np.arange(10).reshape(2,5)\n",
    "print(W[::-1])\n",
    "print(W[:, ::-1])"
   ]
  },
  {
   "cell_type": "code",
   "execution_count": 33,
   "metadata": {},
   "outputs": [
    {
     "name": "stdout",
     "output_type": "stream",
     "text": [
      "13.9283882772\n",
      "11.6569533665\n"
     ]
    }
   ],
   "source": [
    "x = np.array([7,8,9])\n",
    "print(np.linalg.norm(x, ord=2))\n",
    "print(np.linalg.norm(x, ord=3))"
   ]
  },
  {
   "cell_type": "code",
   "execution_count": 36,
   "metadata": {},
   "outputs": [
    {
     "name": "stdout",
     "output_type": "stream",
     "text": [
      "[[14 32]\n",
      " [32 77]]\n",
      "[[17 22 27]\n",
      " [22 29 36]\n",
      " [27 36 45]]\n"
     ]
    }
   ],
   "source": [
    "W = np.array([[1,2,3],[4,5,6]])\n",
    "x = np.array([7,8,9])\n",
    "\n",
    "print(np.matmul(W, W.T))\n",
    "print(np.matmul(W.T, W))"
   ]
  },
  {
   "cell_type": "code",
   "execution_count": 37,
   "metadata": {},
   "outputs": [
    {
     "name": "stdout",
     "output_type": "stream",
     "text": [
      "[[ 816  852  888  924]\n",
      " [2112 2229 2346 2463]]\n",
      "(2, 4)\n"
     ]
    }
   ],
   "source": [
    "A = np.arange(18).reshape(2,3,3)\n",
    "B = np.arange(36).reshape(3,3,4)\n",
    "\n",
    "print(np.tensordot(A,B))\n",
    "print(np.tensordot(A,B).shape)"
   ]
  },
  {
   "cell_type": "code",
   "execution_count": 38,
   "metadata": {},
   "outputs": [
    {
     "data": {
      "text/plain": [
       "(2, 3, 3, 4)"
      ]
     },
     "execution_count": 38,
     "metadata": {},
     "output_type": "execute_result"
    }
   ],
   "source": [
    "np.tensordot(A,B, axes=1).shape"
   ]
  },
  {
   "cell_type": "code",
   "execution_count": 45,
   "metadata": {},
   "outputs": [
    {
     "name": "stdout",
     "output_type": "stream",
     "text": [
      "60\n",
      "[[ 0  5 10 15 20]\n",
      " [ 1  6 11 16 21]\n",
      " [ 2  7 12 17 22]\n",
      " [ 3  8 13 18 23]\n",
      " [ 4  9 14 19 24]]\n",
      "[[ 0  1  2  3  4]\n",
      " [ 5  6  7  8  9]\n",
      " [10 11 12 13 14]\n",
      " [15 16 17 18 19]\n",
      " [20 21 22 23 24]]\n",
      "40\n",
      "40\n",
      "[50 55 60 65 70]\n"
     ]
    },
    {
     "data": {
      "text/plain": [
       "array([[ 0,  1,  2,  3,  4],\n",
       "       [ 5,  6,  7,  8,  9],\n",
       "       [10, 11, 12, 13, 14],\n",
       "       [15, 16, 17, 18, 19],\n",
       "       [20, 21, 22, 23, 24]])"
      ]
     },
     "execution_count": 45,
     "metadata": {},
     "output_type": "execute_result"
    }
   ],
   "source": [
    "A = np.arange(25).reshape(5,5)\n",
    "b = np.arange(5)\n",
    "b2 = np.arange(5) + 1\n",
    "\n",
    "print(np.einsum('ii', A))\n",
    "print(np.einsum('ji', A))\n",
    "print(np.einsum('ij', A))\n",
    "\n",
    "print(np.einsum('i,i', b, b2))\n",
    "print(np.dot(b, b2))\n",
    "\n",
    "print(np.einsum('ij->j', A))\n",
    "A"
   ]
  },
  {
   "cell_type": "code",
   "execution_count": 47,
   "metadata": {},
   "outputs": [
    {
     "name": "stdout",
     "output_type": "stream",
     "text": [
      "[[10 28 46 64]\n",
      " [13 40 67 94]]\n"
     ]
    }
   ],
   "source": [
    "A = np.arange(6).reshape((3,2))\n",
    "B = np.arange(12).reshape((4,3))\n",
    "print(np.einsum('ij, ki->jk', A, B))"
   ]
  },
  {
   "cell_type": "code",
   "execution_count": 48,
   "metadata": {},
   "outputs": [
    {
     "name": "stdout",
     "output_type": "stream",
     "text": [
      "[[ 816  852  888  924]\n",
      " [2112 2229 2346 2463]]\n"
     ]
    }
   ],
   "source": [
    "A = np.arange(18).reshape(2,3,3)\n",
    "B = np.arange(36).reshape(3,3,4)\n",
    "print(np.einsum('ijk,jkl->il', A,B))"
   ]
  },
  {
   "cell_type": "code",
   "execution_count": 49,
   "metadata": {},
   "outputs": [
    {
     "data": {
      "text/plain": [
       "array([[ 8, 10, 12],\n",
       "       [11, 13, 15]])"
      ]
     },
     "execution_count": 49,
     "metadata": {},
     "output_type": "execute_result"
    }
   ],
   "source": [
    "W = np.array([[1, 2, 3], [4, 5, 6]])\n",
    "x = np.array([7, 8, 9])\n",
    "W + x"
   ]
  },
  {
   "cell_type": "code",
   "execution_count": 52,
   "metadata": {},
   "outputs": [
    {
     "name": "stdout",
     "output_type": "stream",
     "text": [
      "[7 8 9]\n",
      "[[7 8 9]]\n",
      "[[7 8 9]]\n",
      "[[7]\n",
      " [8]\n",
      " [9]]\n"
     ]
    }
   ],
   "source": [
    "print(x)\n",
    "print(x[np.newaxis])\n",
    "print(x[np.newaxis, :])\n",
    "print(x[:, np.newaxis])"
   ]
  },
  {
   "cell_type": "code",
   "execution_count": 56,
   "metadata": {},
   "outputs": [
    {
     "name": "stdout",
     "output_type": "stream",
     "text": [
      "[  0.35392866   3.65642933  -9.99285704 ..., -20.04225561  10.75152699\n",
      "  12.03462502] 10000\n",
      "0.0441115407797\n",
      "10.0067913335\n"
     ]
    }
   ],
   "source": [
    "r = np.random.normal(0,10, 10000)\n",
    "print(r, len(r))\n",
    "print(np.mean(r))\n",
    "print(np.std(r))"
   ]
  },
  {
   "cell_type": "code",
   "execution_count": 59,
   "metadata": {},
   "outputs": [
    {
     "name": "stdout",
     "output_type": "stream",
     "text": [
      "[ 4.95429619  9.22613472 -9.83223404 -7.87111247 -4.02592572  3.12822366\n",
      "  6.19625105  7.44351827  9.29295195  4.47370694]\n"
     ]
    }
   ],
   "source": [
    "# np.random.seed(12345)\n",
    "\n",
    "print(np.random.uniform(-10,10,10))"
   ]
  },
  {
   "cell_type": "code",
   "execution_count": 60,
   "metadata": {},
   "outputs": [
    {
     "name": "stdout",
     "output_type": "stream",
     "text": [
      "[ 8.59232186 -3.67248891 -6.32162377 -5.90879443  1.35450058  1.91089406\n",
      "  9.29029039  3.06354194  4.97813275  3.07139742]\n",
      "[ 4.95429619  9.22613472 -9.83223404 -7.87111247 -4.02592572  3.12822366\n",
      "  6.19625105  7.44351827  9.29295195  4.47370694]\n"
     ]
    }
   ],
   "source": [
    "rng0 = np.random.RandomState(12345)\n",
    "rng1 = np.random.RandomState(34567)\n",
    "\n",
    "print(rng0.uniform(-10, 10, 10))\n",
    "print(rng0.uniform(-10, 10, 10))"
   ]
  },
  {
   "cell_type": "code",
   "execution_count": 63,
   "metadata": {},
   "outputs": [
    {
     "name": "stdout",
     "output_type": "stream",
     "text": [
      "[7 8 9]\n",
      "[[1 2 3]\n",
      " [4 5 6]]\n"
     ]
    }
   ],
   "source": [
    "import numpy as np\n",
    "print(np.arange(7,10))\n",
    "print(np.arange(1,7).reshape(2,3))"
   ]
  },
  {
   "cell_type": "code",
   "execution_count": 64,
   "metadata": {
    "collapsed": true
   },
   "outputs": [],
   "source": [
    "import matplotlib.pyplot as plt\n",
    "%matplotlib inline"
   ]
  },
  {
   "cell_type": "code",
   "execution_count": 65,
   "metadata": {},
   "outputs": [
    {
     "data": {
      "image/png": "[encoded data removed]",
      "text/plain": [
       "<matplotlib.figure.Figure at 0x10dbe0080>"
      ]
     },
     "metadata": {},
     "output_type": "display_data"
    }
   ],
   "source": [
    "x = np.arange(-2*3.14, 2*3.14, 0.1)\n",
    "y = np.cos(x)\n",
    "plt.plot(x, y)\n",
    "plt.show()      # グラフの表示"
   ]
  },
  {
   "cell_type": "code",
   "execution_count": 67,
   "metadata": {},
   "outputs": [
    {
     "data": {
      "image/png": "[encoded data removed]",
      "text/plain": [
       "<matplotlib.figure.Figure at 0x10dd15748>"
      ]
     },
     "metadata": {},
     "output_type": "display_data"
    },
    {
     "data": {
      "image/png": "[encoded data removed]",
      "text/plain": [
       "<matplotlib.figure.Figure at 0x10de14a58>"
      ]
     },
     "metadata": {},
     "output_type": "display_data"
    }
   ],
   "source": [
    "x = [3, 4.5, 5, 6]\n",
    "y = [0, 2, 1, 3]\n",
    "\n",
    "plt.plot(x, y)\n",
    "plt.show()\n",
    "plt.plot(x, y, 'o')\n",
    "plt.show()"
   ]
  },
  {
   "cell_type": "code",
   "execution_count": 70,
   "metadata": {},
   "outputs": [
    {
     "data": {
      "image/png": "[encoded data removed]",
      "text/plain": [
       "<matplotlib.figure.Figure at 0x10df53550>"
      ]
     },
     "metadata": {},
     "output_type": "display_data"
    }
   ],
   "source": [
    "a = [[1.0, 0.7], [0.2, 0.0]]\n",
    "plt.imshow(a, cmap='gray')\n",
    "plt.show()"
   ]
  },
  {
   "cell_type": "code",
   "execution_count": 69,
   "metadata": {},
   "outputs": [
    {
     "data": {
      "image/png": "[encoded data removed]",
      "text/plain": [
       "<matplotlib.figure.Figure at 0x10df4ad68>"
      ]
     },
     "metadata": {},
     "output_type": "display_data"
    }
   ],
   "source": [
    "a = [[1.0, 0.7], [0.2, 0.0]]\n",
    "b = [[0.0, 0.2], [0.7, 1.0]]\n",
    "\n",
    "fig = plt.figure()\n",
    "sp = fig.add_subplot(1, 2, 1)  # タテ１　ヨコ２　１番目\n",
    "sp.imshow(a, cmap='gray', interpolation='none')\n",
    "sp = fig.add_subplot(1, 2, 2)  # タテ１　ヨコ２　２番目\n",
    "sp.imshow(b, cmap='gray', interpolation='none')\n",
    "plt.show()"
   ]
  },
  {
   "cell_type": "code",
   "execution_count": 71,
   "metadata": {},
   "outputs": [
    {
     "ename": "ModuleNotFoundError",
     "evalue": "No module named 'sklearn'",
     "output_type": "error",
     "traceback": [
      "\u001b[0;31m---------------------------------------------------------------------------\u001b[0m",
      "\u001b[0;31mModuleNotFoundError\u001b[0m                       Traceback (most recent call last)",
      "\u001b[0;32m<ipython-input-71-6ae88bd2ec6a>\u001b[0m in \u001b[0;36m<module>\u001b[0;34m()\u001b[0m\n\u001b[0;32m----> 1\u001b[0;31m \u001b[0;32mfrom\u001b[0m \u001b[0msklearn\u001b[0m\u001b[0;34m.\u001b[0m\u001b[0mutils\u001b[0m \u001b[0;32mimport\u001b[0m \u001b[0mshuffle\u001b[0m\u001b[0;34m\u001b[0m\u001b[0m\n\u001b[0m",
      "\u001b[0;31mModuleNotFoundError\u001b[0m: No module named 'sklearn'"
     ]
    }
   ],
   "source": [
    "from sklearn.utils import shuffle"
   ]
  },
  {
   "cell_type": "code",
   "execution_count": 8,
   "metadata": {},
   "outputs": [
    {
     "name": "stdout",
     "output_type": "stream",
     "text": [
      "[7, -6, 1]\n",
      "[ 7 -6  1]\n"
     ]
    }
   ],
   "source": [
    "import numpy as np\n",
    "def my_cross(u, v):\n",
    "    # write down your code\n",
    "    def levi_civita(i,j,k):\n",
    "        if (i,j,k) in [(1,2,3), (2,3,1), (3,1,2)]:\n",
    "            return 1\n",
    "        elif (i,j,k) in [(1,3,2), (3,2,1), (2,1,3)]:\n",
    "            return -1\n",
    "        else:\n",
    "            return 0\n",
    "    res = [0,0,0]\n",
    "    for i in range(3):\n",
    "        for j in range(3):\n",
    "            for k in range(3):\n",
    "                res[i] += (levi_civita(i+1,j+1,k+1) * u[j] * v[k])\n",
    "    return res\n",
    "\n",
    "u = np.array([2,3,4])\n",
    "v = np.array([1,2,5])\n",
    "print(my_cross(u, v))\n",
    "print(np.cross(u, v))"
   ]
  },
  {
   "cell_type": "code",
   "execution_count": 9,
   "metadata": {},
   "outputs": [
    {
     "name": "stdout",
     "output_type": "stream",
     "text": [
      "[1, 4, 7, 2, 8, 5, 9, 6, 3, 0]\n"
     ]
    }
   ],
   "source": [
    "from sklearn.utils import shuffle\n",
    "\n",
    "np.random.seed()\n",
    "print(shuffle(range(10)))"
   ]
  },
  {
   "cell_type": "code",
   "execution_count": 13,
   "metadata": {},
   "outputs": [
    {
     "name": "stdout",
     "output_type": "stream",
     "text": [
      "[1, 4, 2]\n",
      "['B', 'E', 'C']\n"
     ]
    }
   ],
   "source": [
    "from sklearn.model_selection import train_test_split\n",
    "import string\n",
    "\n",
    "lettersAtoE = string.ascii_uppercase[:5]\n",
    "\n",
    "train0to4, test0to4, trainAtoE, testAtoE = train_test_split(range(5), lettersAtoE)\n",
    "\n",
    "print(train0to4)\n",
    "print(trainAtoE)"
   ]
  },
  {
   "cell_type": "code",
   "execution_count": 12,
   "metadata": {},
   "outputs": [
    {
     "data": {
      "text/plain": [
       "'ABCDEFGHIJKLMNOPQRSTUVWXYZ'"
      ]
     },
     "execution_count": 12,
     "metadata": {},
     "output_type": "execute_result"
    }
   ],
   "source": [
    "string.ascii_uppercase"
   ]
  },
  {
   "cell_type": "code",
   "execution_count": 22,
   "metadata": {},
   "outputs": [
    {
     "name": "stdout",
     "output_type": "stream",
     "text": [
      "[0 0 1 1 2 2 3 3 4 4]\n",
      "[0 0 1 1 2 2 3 3 4 4]\n",
      "[0 0 1 1 2 2 3 3 4 4]\n"
     ]
    }
   ],
   "source": [
    "print(np.arange(10)//2)\n",
    "print((np.arange(5)[:,np.newaxis]*(1,1)).flatten())\n",
    "print(np.array([(i,i) for i in range(5)]).flatten())"
   ]
  },
  {
   "cell_type": "code",
   "execution_count": 18,
   "metadata": {},
   "outputs": [
    {
     "name": "stdout",
     "output_type": "stream",
     "text": [
      "[[ 7.  8.  9.]\n",
      " [ 7.  8.  9.]]\n"
     ]
    }
   ],
   "source": [
    "print(np.ones((2,3))*np.array([7,8,9]))"
   ]
  },
  {
   "cell_type": "code",
   "execution_count": 31,
   "metadata": {},
   "outputs": [
    {
     "name": "stdout",
     "output_type": "stream",
     "text": [
      "[0 1 0 3 0 5 0 7 0 9]\n",
      "[0 0 2 0 4 0 6 0 8 0]\n",
      "[0 1 0 3 0 5 0 7 0 9]\n"
     ]
    }
   ],
   "source": [
    "x = np.arange(10)\n",
    "print(x * (x%2==1))\n",
    "print(np.array([i if i%2==0 else 0 for i in range(10)]))\n",
    "print(np.arange(10 ) * np.tile([0,1],5))"
   ]
  },
  {
   "cell_type": "markdown",
   "metadata": {},
   "source": [
    "print(2**(np.arange(5))"
   ]
  },
  {
   "cell_type": "code",
   "execution_count": 37,
   "metadata": {},
   "outputs": [
    {
     "name": "stdout",
     "output_type": "stream",
     "text": [
      "[ 1  2  4  8 16]\n",
      "[ 0  1  4  9 16]\n",
      "[1, 2, 4, 8, 16]\n"
     ]
    }
   ],
   "source": [
    "print(2**(np.arange(5)))\n",
    "print(np.apply_along_axis(np.square, 0, (np.arange(5))))\n",
    "x = [1]\n",
    "[x.append(x[i]*2) for i in range(4)]\n",
    "print(x)"
   ]
  },
  {
   "cell_type": "code",
   "execution_count": 41,
   "metadata": {},
   "outputs": [
    {
     "name": "stdout",
     "output_type": "stream",
     "text": [
      "[-1. -1. -1. -1. -1.  1.  1.  1.  1.  1.]\n",
      "[-1. -1. -1. -1. -1.  1.  1.  1.  1.  1.]\n",
      "[-1. -1. -1. -1. -1.  1.  1.  1.  1.  1.]\n"
     ]
    }
   ],
   "source": [
    "print(np.sign(np.arange(10) -4.5))\n",
    "print(np.concatenate([-np.ones(5), np.ones(5)]))\n",
    "print((np.arange(10) > 4.5) * 2.0 -1)"
   ]
  },
  {
   "cell_type": "code",
   "execution_count": 55,
   "metadata": {},
   "outputs": [
    {
     "name": "stdout",
     "output_type": "stream",
     "text": [
      "[[ 48  59]\n",
      " [ 98 118]]\n"
     ]
    }
   ],
   "source": [
    "def q2(A, B, C,x):\n",
    "    a = A * x\n",
    "    return np.matmul(A*x ,B) - np.transpose(C)\n",
    "        \n",
    "A = np.array([[1,2,3],[4,5,6]])\n",
    "B = np.array([[1,2],[3,4],[5,6]])\n",
    "C = np.array([[2,3],[1,2]])\n",
    "x = np.array([-1, 1, 3])\n",
    "print(q2(A,B,C,x))"
   ]
  },
  {
   "cell_type": "code",
   "execution_count": 45,
   "metadata": {},
   "outputs": [
    {
     "data": {
      "text/plain": [
       "10"
      ]
     },
     "execution_count": 45,
     "metadata": {},
     "output_type": "execute_result"
    }
   ],
   "source": [
    "1 == 1 ==1\n",
    "(np.arange(10)).shape[0]"
   ]
  },
  {
   "cell_type": "code",
   "execution_count": 70,
   "metadata": {},
   "outputs": [
    {
     "name": "stdout",
     "output_type": "stream",
     "text": [
      "[5 3 7 1 4 8 6 2 0]\n",
      "[[38 63]\n",
      " [ 8 63]\n",
      " [69 78]\n",
      " [81 62]\n",
      " [51 15]\n",
      " [26  9]\n",
      " [80 36]\n",
      " [81 18]\n",
      " [87 14]]\n"
     ]
    }
   ],
   "source": [
    "def q3(x, a):\n",
    "    norms = np.apply_along_axis(lambda v: np.linalg.norm(v-a, ord=2), 1, x)\n",
    "    order = np.argsort(norms)\n",
    "    return np.array([x[i] for i in order])\n",
    "    \n",
    "x = np.array([[87, 14], [81, 62], [81, 18], [ 8, 63], [51, 15], [38, 63], [80, 36], [69, 78], [26, 9]])\n",
    "a = np.array([25, 75])\n",
    "\n",
    "print(q3(x,a))"
   ]
  },
  {
   "cell_type": "code",
   "execution_count": 68,
   "metadata": {},
   "outputs": [
    {
     "name": "stdout",
     "output_type": "stream",
     "text": [
      "[3 1 4 0 2]\n",
      "[1 2 4 5 7]\n"
     ]
    }
   ],
   "source": [
    "x = np.array([5,2,7,1,4])\n",
    "print(np.argsort(x))\n",
    "print(np.sort(x))"
   ]
  },
  {
   "cell_type": "code",
   "execution_count": 71,
   "metadata": {
    "collapsed": true
   },
   "outputs": [],
   "source": [
    "from matplotlib import pyplot as plt\n",
    "%matplotlib inline"
   ]
  },
  {
   "cell_type": "code",
   "execution_count": 111,
   "metadata": {},
   "outputs": [
    {
     "name": "stdout",
     "output_type": "stream",
     "text": [
      "84\n"
     ]
    }
   ],
   "source": [
    "def q4(M, N, x0, x1, y0, y1):\n",
    "    X = np.arange(M*N).reshape((N,M))\n",
    "    m = X[y0:y1+1, x0:x1+1]\n",
    "    return np.sum(m)\n",
    "    \n",
    "M = 8\n",
    "N = 6\n",
    "x0 =1\n",
    "x1 = 3\n",
    "y0 = 1\n",
    "y1 = 2\n",
    "print(q4(M, N, x0, x1, y0, y1))"
   ]
  },
  {
   "cell_type": "code",
   "execution_count": 100,
   "metadata": {},
   "outputs": [
    {
     "name": "stdout",
     "output_type": "stream",
     "text": [
      "[[ 1.  0.  0.]\n",
      " [ 0.  1.  0.]\n",
      " [ 0.  0.  1.]\n",
      " [ 0.  1.  0.]\n",
      " [ 1.  0.  0.]\n",
      " [ 0.  0.  1.]\n",
      " [ 0.  0.  1.]\n",
      " [ 0.  1.  0.]\n",
      " [ 1.  0.  0.]]\n",
      "[0 1 2 1 0 2 2 1 0]\n"
     ]
    }
   ],
   "source": [
    "def q5_0(categories):\n",
    "    max_category = np.max(categories)\n",
    "    one_hots = np.zeros((len(categories), max_category + 1))\n",
    "    for c, v in zip(categories, one_hots):\n",
    "        v[c] = 1.0\n",
    "    return one_hots\n",
    "\n",
    "def q5_1(one_hots):\n",
    "    return np.nonzero(one_hots)[1]\n",
    "    \n",
    "\n",
    "category = np.array([0, 1, 2, 1, 0, 2, 2, 1, 0])\n",
    "one_hot = np.array([[ 1., 0., 0.],\n",
    "[ 0., 1., 0.],\n",
    "[ 0., 0., 1.],\n",
    "[ 0., 1., 0.],\n",
    "[ 1., 0., 0.],\n",
    "[ 0., 0., 1.],\n",
    "[ 0., 0., 1.],\n",
    "[ 0., 1., 0.],\n",
    "[ 1., 0., 0.]])\n",
    "\n",
    "print(q5_0(category))\n",
    "print(q5_1(one_hot))"
   ]
  },
  {
   "cell_type": "code",
   "execution_count": 84,
   "metadata": {},
   "outputs": [
    {
     "name": "stdout",
     "output_type": "stream",
     "text": [
      "1 [4, 5, 4]\n",
      "2 [7, 8, 3]\n",
      "3 [10, 11, 3]\n"
     ]
    }
   ],
   "source": [
    "a = [1,2,3]\n",
    "b = [[4,5,4], [7,8,3], [10,11,3]]\n",
    "for i,j in zip(a, b):\n",
    "    print(i,j)"
   ]
  },
  {
   "cell_type": "code",
   "execution_count": 89,
   "metadata": {},
   "outputs": [
    {
     "data": {
      "text/plain": [
       "array([[0]])"
      ]
     },
     "execution_count": 89,
     "metadata": {},
     "output_type": "execute_result"
    }
   ],
   "source": [
    "np.argwhere(np.array([1,0,0]) == 1)"
   ]
  },
  {
   "cell_type": "code",
   "execution_count": 99,
   "metadata": {},
   "outputs": [
    {
     "name": "stdout",
     "output_type": "stream",
     "text": [
      "[[ True False False]\n",
      " [False False False]\n",
      " [False False  True]\n",
      " [False False  True]]\n",
      "(array([0, 2, 3]), array([0, 2, 2]))\n"
     ]
    }
   ],
   "source": [
    "x = np.array([[1,0,0], [0,0,0], [0,0,1], [0,0,1]])==1\n",
    "print(x)\n",
    "print(np.nonzero(x))\n"
   ]
  },
  {
   "cell_type": "code",
   "execution_count": 105,
   "metadata": {},
   "outputs": [
    {
     "name": "stdout",
     "output_type": "stream",
     "text": [
      "[1 2 3 4]\n",
      "[1 2 3 4 5]\n",
      "[[1 2 3 4]]\n",
      "[[ 1  2  3  4]\n",
      " [ 2  4  6  8]\n",
      " [ 3  6  9 12]\n",
      " [ 4  8 12 16]\n",
      " [ 5 10 15 20]]\n"
     ]
    }
   ],
   "source": [
    "def q6(m, n):\n",
    "    return np.arange(1,m+1) * np.arange(1, n+1)[:, np.newaxis]\n",
    "\n",
    "print(q6(4,5))"
   ]
  },
  {
   "cell_type": "code",
   "execution_count": 109,
   "metadata": {},
   "outputs": [
    {
     "name": "stdout",
     "output_type": "stream",
     "text": [
      "[0 1 0 1 1 2 2 1]\n"
     ]
    }
   ],
   "source": [
    "def q7(x):\n",
    "    return x[1:] - x[0:-1]\n",
    "\n",
    "x = np.array([1,1,2,2,3,4,6,8,9])\n",
    "print(q7(x))"
   ]
  },
  {
   "cell_type": "code",
   "execution_count": null,
   "metadata": {
    "collapsed": true
   },
   "outputs": [],
   "source": []
  }
 ],
 "metadata": {
  "kernelspec": {
   "display_name": "Python 3",
   "language": "python",
   "name": "python3"
  },
  "language_info": {
   "codemirror_mode": {
    "name": "ipython",
    "version": 3
   },
   "file_extension": ".py",
   "mimetype": "text/x-python",
   "name": "python",
   "nbconvert_exporter": "python",
   "pygments_lexer": "ipython3",
   "version": "3.6.0"
  }
 },
 "nbformat": 4,
 "nbformat_minor": 2
}
